{
 "cells": [
  {
   "cell_type": "markdown",
   "metadata": {},
   "source": [
    "# Importing Relevant Packages"
   ]
  },
  {
   "cell_type": "code",
   "execution_count": 3,
   "metadata": {},
   "outputs": [],
   "source": [
    "# pip install yfinance"
   ]
  },
  {
   "cell_type": "code",
   "execution_count": 130,
   "metadata": {},
   "outputs": [
    {
     "name": "stdout",
     "output_type": "stream",
     "text": [
      "The autoreload extension is already loaded. To reload it, use:\n",
      "  %reload_ext autoreload\n"
     ]
    }
   ],
   "source": [
    "%load_ext autoreload\n",
    "%autoreload 2\n",
    "import sys\n",
    "import os\n",
    "sys.path.append(os.path.abspath(\"../Scripts\"))\n",
    "from download_data import StockData"
   ]
  },
  {
   "cell_type": "code",
   "execution_count": 4,
   "metadata": {},
   "outputs": [],
   "source": [
    "import yfinance as yf\n",
    "import pandas as pd\n",
    "import numpy as np\n",
    "import matplotlib.pyplot as plt\n",
    "import seaborn as sns\n",
    "from statsmodels.tsa.seasonal import seasonal_decompose"
   ]
  },
  {
   "cell_type": "markdown",
   "metadata": {},
   "source": [
    "## Task 1: Preprocess and Explore the Data"
   ]
  },
  {
   "cell_type": "markdown",
   "metadata": {},
   "source": [
    "### Load and Clean Data"
   ]
  },
  {
   "cell_type": "code",
   "execution_count": 135,
   "metadata": {},
   "outputs": [],
   "source": [
    "\n",
    "tickers = ['TSLA', 'BND', 'SPY']\n",
    "start_date = \"2020-01-01\"\n",
    "end_date = \"2025-01-31\"\n",
    "\n",
    "# Create instance of StockData\n",
    "stock_data = StockData(tickers, start_date, end_date)"
   ]
  },
  {
   "cell_type": "code",
   "execution_count": 136,
   "metadata": {},
   "outputs": [
    {
     "name": "stderr",
     "output_type": "stream",
     "text": [
      "[*********************100%***********************]  3 of 3 completed\n"
     ]
    },
    {
     "data": {
      "text/html": [
       "<div>\n",
       "<style scoped>\n",
       "    .dataframe tbody tr th:only-of-type {\n",
       "        vertical-align: middle;\n",
       "    }\n",
       "\n",
       "    .dataframe tbody tr th {\n",
       "        vertical-align: top;\n",
       "    }\n",
       "\n",
       "    .dataframe thead tr th {\n",
       "        text-align: left;\n",
       "    }\n",
       "\n",
       "    .dataframe thead tr:last-of-type th {\n",
       "        text-align: right;\n",
       "    }\n",
       "</style>\n",
       "<table border=\"1\" class=\"dataframe\">\n",
       "  <thead>\n",
       "    <tr>\n",
       "      <th>Price</th>\n",
       "      <th colspan=\"3\" halign=\"left\">Close</th>\n",
       "      <th colspan=\"3\" halign=\"left\">High</th>\n",
       "      <th colspan=\"3\" halign=\"left\">Low</th>\n",
       "      <th colspan=\"3\" halign=\"left\">Open</th>\n",
       "      <th colspan=\"3\" halign=\"left\">Volume</th>\n",
       "    </tr>\n",
       "    <tr>\n",
       "      <th>Ticker</th>\n",
       "      <th>BND</th>\n",
       "      <th>SPY</th>\n",
       "      <th>TSLA</th>\n",
       "      <th>BND</th>\n",
       "      <th>SPY</th>\n",
       "      <th>TSLA</th>\n",
       "      <th>BND</th>\n",
       "      <th>SPY</th>\n",
       "      <th>TSLA</th>\n",
       "      <th>BND</th>\n",
       "      <th>SPY</th>\n",
       "      <th>TSLA</th>\n",
       "      <th>BND</th>\n",
       "      <th>SPY</th>\n",
       "      <th>TSLA</th>\n",
       "    </tr>\n",
       "    <tr>\n",
       "      <th>Date</th>\n",
       "      <th></th>\n",
       "      <th></th>\n",
       "      <th></th>\n",
       "      <th></th>\n",
       "      <th></th>\n",
       "      <th></th>\n",
       "      <th></th>\n",
       "      <th></th>\n",
       "      <th></th>\n",
       "      <th></th>\n",
       "      <th></th>\n",
       "      <th></th>\n",
       "      <th></th>\n",
       "      <th></th>\n",
       "      <th></th>\n",
       "    </tr>\n",
       "  </thead>\n",
       "  <tbody>\n",
       "    <tr>\n",
       "      <th>2020-01-02</th>\n",
       "      <td>72.948792</td>\n",
       "      <td>301.194946</td>\n",
       "      <td>28.684000</td>\n",
       "      <td>73.070416</td>\n",
       "      <td>301.213507</td>\n",
       "      <td>28.713333</td>\n",
       "      <td>72.914041</td>\n",
       "      <td>299.025478</td>\n",
       "      <td>28.114000</td>\n",
       "      <td>72.957481</td>\n",
       "      <td>299.961883</td>\n",
       "      <td>28.299999</td>\n",
       "      <td>5511000</td>\n",
       "      <td>59151200</td>\n",
       "      <td>142981500</td>\n",
       "    </tr>\n",
       "    <tr>\n",
       "      <th>2020-01-03</th>\n",
       "      <td>73.209404</td>\n",
       "      <td>298.914154</td>\n",
       "      <td>29.534000</td>\n",
       "      <td>73.226783</td>\n",
       "      <td>300.054527</td>\n",
       "      <td>30.266666</td>\n",
       "      <td>73.061718</td>\n",
       "      <td>297.699623</td>\n",
       "      <td>29.128000</td>\n",
       "      <td>73.131220</td>\n",
       "      <td>297.755249</td>\n",
       "      <td>29.366667</td>\n",
       "      <td>5368300</td>\n",
       "      <td>77709700</td>\n",
       "      <td>266677500</td>\n",
       "    </tr>\n",
       "    <tr>\n",
       "      <th>2020-01-06</th>\n",
       "      <td>73.122505</td>\n",
       "      <td>300.054535</td>\n",
       "      <td>30.102667</td>\n",
       "      <td>73.244129</td>\n",
       "      <td>300.137973</td>\n",
       "      <td>30.104000</td>\n",
       "      <td>73.070382</td>\n",
       "      <td>297.013540</td>\n",
       "      <td>29.333332</td>\n",
       "      <td>73.235447</td>\n",
       "      <td>297.134071</td>\n",
       "      <td>29.364668</td>\n",
       "      <td>3710400</td>\n",
       "      <td>55653900</td>\n",
       "      <td>151995000</td>\n",
       "    </tr>\n",
       "    <tr>\n",
       "      <th>2020-01-07</th>\n",
       "      <td>73.061714</td>\n",
       "      <td>299.210907</td>\n",
       "      <td>31.270666</td>\n",
       "      <td>73.148588</td>\n",
       "      <td>299.961876</td>\n",
       "      <td>31.441999</td>\n",
       "      <td>73.035653</td>\n",
       "      <td>298.756597</td>\n",
       "      <td>30.224001</td>\n",
       "      <td>73.148588</td>\n",
       "      <td>299.479753</td>\n",
       "      <td>30.760000</td>\n",
       "      <td>3029900</td>\n",
       "      <td>40496400</td>\n",
       "      <td>268231500</td>\n",
       "    </tr>\n",
       "    <tr>\n",
       "      <th>2020-01-08</th>\n",
       "      <td>72.948792</td>\n",
       "      <td>300.805573</td>\n",
       "      <td>32.809334</td>\n",
       "      <td>73.148600</td>\n",
       "      <td>302.038636</td>\n",
       "      <td>33.232666</td>\n",
       "      <td>72.887979</td>\n",
       "      <td>299.155292</td>\n",
       "      <td>31.215334</td>\n",
       "      <td>73.087788</td>\n",
       "      <td>299.405605</td>\n",
       "      <td>31.580000</td>\n",
       "      <td>3674400</td>\n",
       "      <td>68296000</td>\n",
       "      <td>467164500</td>\n",
       "    </tr>\n",
       "    <tr>\n",
       "      <th>...</th>\n",
       "      <td>...</td>\n",
       "      <td>...</td>\n",
       "      <td>...</td>\n",
       "      <td>...</td>\n",
       "      <td>...</td>\n",
       "      <td>...</td>\n",
       "      <td>...</td>\n",
       "      <td>...</td>\n",
       "      <td>...</td>\n",
       "      <td>...</td>\n",
       "      <td>...</td>\n",
       "      <td>...</td>\n",
       "      <td>...</td>\n",
       "      <td>...</td>\n",
       "      <td>...</td>\n",
       "    </tr>\n",
       "    <tr>\n",
       "      <th>2025-01-24</th>\n",
       "      <td>71.805977</td>\n",
       "      <td>607.969971</td>\n",
       "      <td>406.579987</td>\n",
       "      <td>71.855810</td>\n",
       "      <td>610.780029</td>\n",
       "      <td>418.880005</td>\n",
       "      <td>71.636531</td>\n",
       "      <td>606.799988</td>\n",
       "      <td>405.779999</td>\n",
       "      <td>71.766106</td>\n",
       "      <td>609.809998</td>\n",
       "      <td>414.450012</td>\n",
       "      <td>5555700</td>\n",
       "      <td>34604700</td>\n",
       "      <td>56427100</td>\n",
       "    </tr>\n",
       "    <tr>\n",
       "      <th>2025-01-27</th>\n",
       "      <td>72.184738</td>\n",
       "      <td>599.369995</td>\n",
       "      <td>397.149994</td>\n",
       "      <td>72.204677</td>\n",
       "      <td>599.690002</td>\n",
       "      <td>406.690002</td>\n",
       "      <td>72.025262</td>\n",
       "      <td>594.640015</td>\n",
       "      <td>389.000000</td>\n",
       "      <td>72.104996</td>\n",
       "      <td>594.809998</td>\n",
       "      <td>394.799988</td>\n",
       "      <td>8621200</td>\n",
       "      <td>70361100</td>\n",
       "      <td>58125500</td>\n",
       "    </tr>\n",
       "    <tr>\n",
       "      <th>2025-01-28</th>\n",
       "      <td>72.144867</td>\n",
       "      <td>604.520020</td>\n",
       "      <td>398.089996</td>\n",
       "      <td>72.154837</td>\n",
       "      <td>605.369995</td>\n",
       "      <td>400.589996</td>\n",
       "      <td>71.975421</td>\n",
       "      <td>597.250000</td>\n",
       "      <td>386.500000</td>\n",
       "      <td>72.154837</td>\n",
       "      <td>600.619995</td>\n",
       "      <td>396.910004</td>\n",
       "      <td>4424300</td>\n",
       "      <td>44433300</td>\n",
       "      <td>48910700</td>\n",
       "    </tr>\n",
       "    <tr>\n",
       "      <th>2025-01-29</th>\n",
       "      <td>72.104996</td>\n",
       "      <td>601.809998</td>\n",
       "      <td>389.100006</td>\n",
       "      <td>72.254510</td>\n",
       "      <td>604.130005</td>\n",
       "      <td>398.589996</td>\n",
       "      <td>71.935550</td>\n",
       "      <td>599.219971</td>\n",
       "      <td>384.480011</td>\n",
       "      <td>72.194707</td>\n",
       "      <td>603.719971</td>\n",
       "      <td>395.209991</td>\n",
       "      <td>5780200</td>\n",
       "      <td>37177400</td>\n",
       "      <td>68033600</td>\n",
       "    </tr>\n",
       "    <tr>\n",
       "      <th>2025-01-30</th>\n",
       "      <td>72.204674</td>\n",
       "      <td>605.039978</td>\n",
       "      <td>400.279999</td>\n",
       "      <td>72.294378</td>\n",
       "      <td>606.599976</td>\n",
       "      <td>412.500000</td>\n",
       "      <td>72.144864</td>\n",
       "      <td>600.719971</td>\n",
       "      <td>384.410004</td>\n",
       "      <td>72.224605</td>\n",
       "      <td>603.960022</td>\n",
       "      <td>410.779999</td>\n",
       "      <td>5622300</td>\n",
       "      <td>39281300</td>\n",
       "      <td>98092900</td>\n",
       "    </tr>\n",
       "  </tbody>\n",
       "</table>\n",
       "<p>1277 rows × 15 columns</p>\n",
       "</div>"
      ],
      "text/plain": [
       "Price           Close                               High              \\\n",
       "Ticker            BND         SPY        TSLA        BND         SPY   \n",
       "Date                                                                   \n",
       "2020-01-02  72.948792  301.194946   28.684000  73.070416  301.213507   \n",
       "2020-01-03  73.209404  298.914154   29.534000  73.226783  300.054527   \n",
       "2020-01-06  73.122505  300.054535   30.102667  73.244129  300.137973   \n",
       "2020-01-07  73.061714  299.210907   31.270666  73.148588  299.961876   \n",
       "2020-01-08  72.948792  300.805573   32.809334  73.148600  302.038636   \n",
       "...               ...         ...         ...        ...         ...   \n",
       "2025-01-24  71.805977  607.969971  406.579987  71.855810  610.780029   \n",
       "2025-01-27  72.184738  599.369995  397.149994  72.204677  599.690002   \n",
       "2025-01-28  72.144867  604.520020  398.089996  72.154837  605.369995   \n",
       "2025-01-29  72.104996  601.809998  389.100006  72.254510  604.130005   \n",
       "2025-01-30  72.204674  605.039978  400.279999  72.294378  606.599976   \n",
       "\n",
       "Price                         Low                               Open  \\\n",
       "Ticker            TSLA        BND         SPY        TSLA        BND   \n",
       "Date                                                                   \n",
       "2020-01-02   28.713333  72.914041  299.025478   28.114000  72.957481   \n",
       "2020-01-03   30.266666  73.061718  297.699623   29.128000  73.131220   \n",
       "2020-01-06   30.104000  73.070382  297.013540   29.333332  73.235447   \n",
       "2020-01-07   31.441999  73.035653  298.756597   30.224001  73.148588   \n",
       "2020-01-08   33.232666  72.887979  299.155292   31.215334  73.087788   \n",
       "...                ...        ...         ...         ...        ...   \n",
       "2025-01-24  418.880005  71.636531  606.799988  405.779999  71.766106   \n",
       "2025-01-27  406.690002  72.025262  594.640015  389.000000  72.104996   \n",
       "2025-01-28  400.589996  71.975421  597.250000  386.500000  72.154837   \n",
       "2025-01-29  398.589996  71.935550  599.219971  384.480011  72.194707   \n",
       "2025-01-30  412.500000  72.144864  600.719971  384.410004  72.224605   \n",
       "\n",
       "Price                                Volume                       \n",
       "Ticker             SPY        TSLA      BND       SPY       TSLA  \n",
       "Date                                                              \n",
       "2020-01-02  299.961883   28.299999  5511000  59151200  142981500  \n",
       "2020-01-03  297.755249   29.366667  5368300  77709700  266677500  \n",
       "2020-01-06  297.134071   29.364668  3710400  55653900  151995000  \n",
       "2020-01-07  299.479753   30.760000  3029900  40496400  268231500  \n",
       "2020-01-08  299.405605   31.580000  3674400  68296000  467164500  \n",
       "...                ...         ...      ...       ...        ...  \n",
       "2025-01-24  609.809998  414.450012  5555700  34604700   56427100  \n",
       "2025-01-27  594.809998  394.799988  8621200  70361100   58125500  \n",
       "2025-01-28  600.619995  396.910004  4424300  44433300   48910700  \n",
       "2025-01-29  603.719971  395.209991  5780200  37177400   68033600  \n",
       "2025-01-30  603.960022  410.779999  5622300  39281300   98092900  \n",
       "\n",
       "[1277 rows x 15 columns]"
      ]
     },
     "execution_count": 136,
     "metadata": {},
     "output_type": "execute_result"
    }
   ],
   "source": [
    "stock_data.download_data()"
   ]
  },
  {
   "cell_type": "code",
   "execution_count": 137,
   "metadata": {},
   "outputs": [],
   "source": [
    "close_df, high_df, low_df, open_df, volume_df = stock_data.extract_price_categories()"
   ]
  },
  {
   "cell_type": "code",
   "execution_count": 138,
   "metadata": {},
   "outputs": [],
   "source": [
    "close_df, high_df, low_df, open_df, volume_df = stock_data.reset_indexes()"
   ]
  },
  {
   "cell_type": "code",
   "execution_count": 139,
   "metadata": {},
   "outputs": [],
   "source": [
    "close_df, high_df, low_df, open_df, volume_df = stock_data.melt_data()"
   ]
  },
  {
   "cell_type": "markdown",
   "metadata": {},
   "source": [
    "### Alternatively I can run it only using this"
   ]
  },
  {
   "cell_type": "code",
   "execution_count": 132,
   "metadata": {},
   "outputs": [
    {
     "name": "stderr",
     "output_type": "stream",
     "text": [
      "[*********************100%***********************]  3 of 3 completed\n"
     ]
    }
   ],
   "source": [
    "# Process the data\n",
    "stock_data.process_data()"
   ]
  },
  {
   "cell_type": "code",
   "execution_count": 142,
   "metadata": {},
   "outputs": [],
   "source": [
    "# Get the merged DataFrame\n",
    "stock_data.merge_data()\n",
    "df_merged = stock_data.get_merged_data()"
   ]
  },
  {
   "cell_type": "code",
   "execution_count": null,
   "metadata": {},
   "outputs": [
    {
     "data": {
      "text/html": [
       "<div>\n",
       "<style scoped>\n",
       "    .dataframe tbody tr th:only-of-type {\n",
       "        vertical-align: middle;\n",
       "    }\n",
       "\n",
       "    .dataframe tbody tr th {\n",
       "        vertical-align: top;\n",
       "    }\n",
       "\n",
       "    .dataframe thead th {\n",
       "        text-align: right;\n",
       "    }\n",
       "</style>\n",
       "<table border=\"1\" class=\"dataframe\">\n",
       "  <thead>\n",
       "    <tr style=\"text-align: right;\">\n",
       "      <th></th>\n",
       "      <th>Date</th>\n",
       "      <th>Ticker</th>\n",
       "      <th>Open</th>\n",
       "      <th>Low</th>\n",
       "      <th>Volume</th>\n",
       "      <th>High</th>\n",
       "      <th>Close</th>\n",
       "    </tr>\n",
       "  </thead>\n",
       "  <tbody>\n",
       "    <tr>\n",
       "      <th>0</th>\n",
       "      <td>2020-01-02</td>\n",
       "      <td>TSLA</td>\n",
       "      <td>28.299999</td>\n",
       "      <td>28.114000</td>\n",
       "      <td>142981500</td>\n",
       "      <td>28.713333</td>\n",
       "      <td>28.684000</td>\n",
       "    </tr>\n",
       "    <tr>\n",
       "      <th>1</th>\n",
       "      <td>2020-01-03</td>\n",
       "      <td>TSLA</td>\n",
       "      <td>29.366667</td>\n",
       "      <td>29.128000</td>\n",
       "      <td>266677500</td>\n",
       "      <td>30.266666</td>\n",
       "      <td>29.534000</td>\n",
       "    </tr>\n",
       "    <tr>\n",
       "      <th>2</th>\n",
       "      <td>2020-01-06</td>\n",
       "      <td>TSLA</td>\n",
       "      <td>29.364668</td>\n",
       "      <td>29.333332</td>\n",
       "      <td>151995000</td>\n",
       "      <td>30.104000</td>\n",
       "      <td>30.102667</td>\n",
       "    </tr>\n",
       "    <tr>\n",
       "      <th>3</th>\n",
       "      <td>2020-01-07</td>\n",
       "      <td>TSLA</td>\n",
       "      <td>30.760000</td>\n",
       "      <td>30.224001</td>\n",
       "      <td>268231500</td>\n",
       "      <td>31.441999</td>\n",
       "      <td>31.270666</td>\n",
       "    </tr>\n",
       "    <tr>\n",
       "      <th>4</th>\n",
       "      <td>2020-01-08</td>\n",
       "      <td>TSLA</td>\n",
       "      <td>31.580000</td>\n",
       "      <td>31.215334</td>\n",
       "      <td>467164500</td>\n",
       "      <td>33.232666</td>\n",
       "      <td>32.809334</td>\n",
       "    </tr>\n",
       "  </tbody>\n",
       "</table>\n",
       "</div>"
      ],
      "text/plain": [
       "        Date Ticker       Open        Low     Volume       High      Close\n",
       "0 2020-01-02   TSLA  28.299999  28.114000  142981500  28.713333  28.684000\n",
       "1 2020-01-03   TSLA  29.366667  29.128000  266677500  30.266666  29.534000\n",
       "2 2020-01-06   TSLA  29.364668  29.333332  151995000  30.104000  30.102667\n",
       "3 2020-01-07   TSLA  30.760000  30.224001  268231500  31.441999  31.270666\n",
       "4 2020-01-08   TSLA  31.580000  31.215334  467164500  33.232666  32.809334"
      ]
     },
     "execution_count": 143,
     "metadata": {},
     "output_type": "execute_result"
    }
   ],
   "source": [
    "df_merged.head()"
   ]
  },
  {
   "cell_type": "code",
   "execution_count": 144,
   "metadata": {},
   "outputs": [],
   "source": [
    "data = df_merged"
   ]
  },
  {
   "cell_type": "markdown",
   "metadata": {},
   "source": [
    "### Data Normalization"
   ]
  },
  {
   "cell_type": "code",
   "execution_count": null,
   "metadata": {},
   "outputs": [],
   "source": [
    "from sklearn.preprocessing import MinMaxScaler\n",
    "\n",
    "scaler = MinMaxScaler()\n",
    "scaled_data = pd.DataFrame(scaler.fit_transform(data), index=data.index, columns=data.columns)\n",
    "\n",
    "print(scaled_data.head())\n"
   ]
  },
  {
   "cell_type": "markdown",
   "metadata": {},
   "source": [
    "### Exploratory Data Analysis (EDA)"
   ]
  },
  {
   "cell_type": "markdown",
   "metadata": {},
   "source": [
    "### Visualize Closing Prices"
   ]
  },
  {
   "cell_type": "code",
   "execution_count": null,
   "metadata": {},
   "outputs": [],
   "source": [
    "plt.figure(figsize=(12, 6))\n",
    "for asset in assets:\n",
    "    plt.plot(data.index, data[asset], label=asset)\n",
    "plt.xlabel(\"Date\")\n",
    "plt.ylabel(\"Closing Price\")\n",
    "plt.title(\"Closing Prices of TSLA, BND, and SPY\")\n",
    "plt.legend()\n",
    "plt.show()\n"
   ]
  },
  {
   "cell_type": "markdown",
   "metadata": {},
   "source": [
    "### Calculate Daily Returns"
   ]
  },
  {
   "cell_type": "code",
   "execution_count": null,
   "metadata": {},
   "outputs": [],
   "source": [
    "returns = data.pct_change().dropna()\n",
    "\n",
    "# Plot returns\n",
    "plt.figure(figsize=(12, 6))\n",
    "for asset in assets:\n",
    "    plt.plot(returns.index, returns[asset], label=f\"{asset} Daily Returns\")\n",
    "plt.xlabel(\"Date\")\n",
    "plt.ylabel(\"Daily Returns\")\n",
    "plt.title(\"Daily Returns of TSLA, BND, and SPY\")\n",
    "plt.legend()\n",
    "plt.show()"
   ]
  },
  {
   "cell_type": "markdown",
   "metadata": {},
   "source": [
    "### Rolling Volatility (Standard Deviation)"
   ]
  },
  {
   "cell_type": "code",
   "execution_count": null,
   "metadata": {},
   "outputs": [],
   "source": [
    "rolling_volatility = returns.rolling(window=30).std()\n",
    "\n",
    "plt.figure(figsize=(12, 6))\n",
    "for asset in assets:\n",
    "    plt.plot(rolling_volatility.index, rolling_volatility[asset], label=f\"{asset} Rolling Volatility (30 days)\")\n",
    "plt.xlabel(\"Date\")\n",
    "plt.ylabel(\"Rolling Std Dev\")\n",
    "plt.title(\"30-Day Rolling Volatility of TSLA, BND, and SPY\")\n",
    "plt.legend()\n",
    "plt.show()"
   ]
  },
  {
   "cell_type": "markdown",
   "metadata": {},
   "source": [
    "### Decompose Tesla’s Stock Price (Trend, Seasonality, Residuals)"
   ]
  },
  {
   "cell_type": "markdown",
   "metadata": {},
   "source": [
    "decomposition = seasonal_decompose(data['TSLA'], model='multiplicative', period=252)  # 252 trading days in a year\n",
    "\n",
    "fig, (ax1, ax2, ax3) = plt.subplots(3, 1, figsize=(10, 8))\n",
    "decomposition.trend.plot(ax=ax1, title=\"Trend\")\n",
    "decomposition.seasonal.plot(ax=ax2, title=\"Seasonality\")\n",
    "decomposition.resid.plot(ax=ax3, title=\"Residuals\")\n",
    "plt.tight_layout()\n",
    "plt.show()"
   ]
  },
  {
   "cell_type": "markdown",
   "metadata": {},
   "source": [
    "## Task 2: Develop Time Series Forecasting Models"
   ]
  },
  {
   "cell_type": "markdown",
   "metadata": {},
   "source": [
    "### Prepare Data for Forecasting"
   ]
  },
  {
   "cell_type": "code",
   "execution_count": null,
   "metadata": {},
   "outputs": [],
   "source": [
    "train_size = int(len(data) * 0.8)\n",
    "train, test = data[:train_size], data[train_size:]\n",
    "\n",
    "# Check split\n",
    "print(f\"Train set: {train.shape}, Test set: {test.shape}\")\n"
   ]
  },
  {
   "cell_type": "markdown",
   "metadata": {},
   "source": [
    "### Train ARIMA Model"
   ]
  },
  {
   "cell_type": "code",
   "execution_count": null,
   "metadata": {},
   "outputs": [],
   "source": [
    "from pmdarima import auto_arima\n",
    "from statsmodels.tsa.arima.model import ARIMA\n",
    "\n",
    "# Use Auto-ARIMA to find best (p, d, q)\n",
    "model_arima = auto_arima(train['TSLA'], seasonal=False, stepwise=True, suppress_warnings=True)\n",
    "print(model_arima.summary())\n",
    "\n",
    "# Train ARIMA model\n",
    "p, d, q = model_arima.order\n",
    "arima_model = ARIMA(train['TSLA'], order=(p, d, q))\n",
    "arima_result = arima_model.fit()"
   ]
  },
  {
   "cell_type": "markdown",
   "metadata": {},
   "source": [
    "### Forecast Using ARIMA"
   ]
  },
  {
   "cell_type": "code",
   "execution_count": null,
   "metadata": {},
   "outputs": [],
   "source": [
    "forecast_steps = len(test)\n",
    "forecast = arima_result.forecast(steps=forecast_steps)\n",
    "\n",
    "# Plot forecast vs actual\n",
    "plt.figure(figsize=(12, 6))\n",
    "plt.plot(test.index, test['TSLA'], label='Actual', color='blue')\n",
    "plt.plot(test.index, forecast, label='Forecast', color='red')\n",
    "plt.xlabel(\"Date\")\n",
    "plt.ylabel(\"Stock Price\")\n",
    "plt.title(\"Tesla Stock Price Prediction (ARIMA)\")\n",
    "plt.legend()\n",
    "plt.show()"
   ]
  },
  {
   "cell_type": "markdown",
   "metadata": {},
   "source": [
    "## Task 3: Forecast Future Market Trends"
   ]
  },
  {
   "cell_type": "code",
   "execution_count": null,
   "metadata": {},
   "outputs": [],
   "source": [
    "future_steps = 252  # Predict next 252 trading days (~1 year)\n",
    "future_forecast = arima_result.forecast(steps=future_steps)\n",
    "\n",
    "# Plot future forecast\n",
    "plt.figure(figsize=(12, 6))\n",
    "plt.plot(data.index, data['TSLA'], label=\"Historical\", color='blue')\n",
    "plt.plot(pd.date_range(start=data.index[-1], periods=future_steps, freq='B'), future_forecast, label=\"Forecast\", color='red')\n",
    "plt.xlabel(\"Date\")\n",
    "plt.ylabel(\"Stock Price\")\n",
    "plt.title(\"Tesla Stock Price Forecast for Next 12 Months\")\n",
    "plt.legend()\n",
    "plt.show()\n"
   ]
  },
  {
   "cell_type": "markdown",
   "metadata": {},
   "source": [
    "## Task 4: Optimize Portfolio Based on Forecast"
   ]
  },
  {
   "cell_type": "markdown",
   "metadata": {},
   "source": [
    "### Portfolio Simulation"
   ]
  },
  {
   "cell_type": "code",
   "execution_count": null,
   "metadata": {},
   "outputs": [],
   "source": [
    "returns['TSLA_future'] = future_forecast.pct_change().dropna()\n",
    "expected_returns = returns.mean() * 252  # Annualized\n",
    "cov_matrix = returns.cov() * 252\n",
    "\n",
    "# Portfolio Optimization\n",
    "from scipy.optimize import minimize\n",
    "\n",
    "def sharpe_ratio(weights):\n",
    "    portfolio_return = np.dot(weights, expected_returns)\n",
    "    portfolio_volatility = np.sqrt(np.dot(weights.T, np.dot(cov_matrix, weights)))\n",
    "    return - (portfolio_return / portfolio_volatility)\n",
    "\n",
    "# Constraints\n",
    "constraints = {'type': 'eq', 'fun': lambda weights: np.sum(weights) - 1}\n",
    "bounds = [(0, 1) for _ in range(len(assets))]\n",
    "initial_weights = np.array([1/3, 1/3, 1/3])\n",
    "\n",
    "optimal = minimize(sharpe_ratio, initial_weights, bounds=bounds, constraints=constraints)\n",
    "optimal_weights = optimal.x\n",
    "\n",
    "# Portfolio Risk and Return\n",
    "portfolio_return = np.dot(optimal_weights, expected_returns)\n",
    "portfolio_volatility = np.sqrt(np.dot(optimal_weights.T, np.dot(cov_matrix, optimal_weights)))\n",
    "sharpe = portfolio_return / portfolio_volatility\n",
    "\n",
    "print(f\"Optimal Weights: {optimal_weights}\")\n",
    "print(f\"Expected Return: {portfolio_return:.2%}\")\n",
    "print(f\"Expected Volatility: {portfolio_volatility:.2%}\")\n",
    "print(f\"Sharpe Ratio: {sharpe:.2f}\")\n"
   ]
  }
 ],
 "metadata": {
  "kernelspec": {
   "display_name": "Python 3",
   "language": "python",
   "name": "python3"
  },
  "language_info": {
   "codemirror_mode": {
    "name": "ipython",
    "version": 3
   },
   "file_extension": ".py",
   "mimetype": "text/x-python",
   "name": "python",
   "nbconvert_exporter": "python",
   "pygments_lexer": "ipython3",
   "version": "3.10.11"
  }
 },
 "nbformat": 4,
 "nbformat_minor": 2
}
